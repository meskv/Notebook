{
 "cells": [
  {
   "cell_type": "code",
   "execution_count": null,
   "id": "9e4859ce",
   "metadata": {
    "vscode": {
     "languageId": "c++"
    }
   },
   "outputs": [],
   "source": [
    "#include<iostream>\n",
    "using namespace std;\n",
    "cout << \"Hello World\";"
   ]
  },
  {
   "cell_type": "markdown",
   "id": "5f6935ca",
   "metadata": {},
   "source": [
    "### Linked List"
   ]
  },
  {
   "cell_type": "code",
   "execution_count": null,
   "id": "4c6d03d5",
   "metadata": {
    "vscode": {
     "languageId": "c++"
    }
   },
   "outputs": [],
   "source": [
    "\n",
    "class Node {\n",
    "public:\n",
    "    int data;\n",
    "    Node* next;\n",
    "};"
   ]
  },
  {
   "cell_type": "code",
   "execution_count": 17,
   "id": "de77370c",
   "metadata": {
    "vscode": {
     "languageId": "c++"
    }
   },
   "outputs": [],
   "source": [
    "// void push (Node** head, int new_data) {\n",
    "//     Node* new_node = new Node();\n",
    "\n",
    "//     new_node -> data = new_data;\n",
    "//     new_node -> next = (*head);\n",
    "\n",
    "//     (*head) = new_node;\n",
    "// }"
   ]
  },
  {
   "cell_type": "code",
   "execution_count": 18,
   "id": "62de0e11",
   "metadata": {
    "vscode": {
     "languageId": "c++"
    }
   },
   "outputs": [],
   "source": [
    "// void insertAfter (Node* prev_node, int new_data) {\n",
    "//     if (prev_node == NULL) {\n",
    "//         cout << \"The given previous node cannot be NULL \\n\";\n",
    "//         return;\n",
    "//     }\n",
    "\n",
    "//     Node* new_node = new Node();\n",
    "\n",
    "//     new_node -> data = new_data;\n",
    "//     new_node -> next = prev_node -> next;\n",
    "//     prev_node -> next = new_node;\n",
    "// }"
   ]
  },
  {
   "cell_type": "code",
   "execution_count": 21,
   "id": "bd98718f",
   "metadata": {
    "vscode": {
     "languageId": "c++"
    }
   },
   "outputs": [],
   "source": [
    "// void append (Node** head, int new_data) {\n",
    "//     Node* new_node = new Node();\n",
    "//     Node *last = *head;\n",
    "\n",
    "//     new_node -> data = new_data;\n",
    "//     new_node -> next = NULL;\n",
    "\n",
    "//     if (*head == NULL) {\n",
    "//         *head = new_node;\n",
    "//         return;\n",
    "//     }\n",
    "\n",
    "//     while (last -> next != NULL) {\n",
    "//         last = last -> next;\n",
    "//     }\n",
    "\n",
    "//     last -> next = new_node;\n",
    "//     return;\n",
    "// }"
   ]
  },
  {
   "cell_type": "code",
   "execution_count": 15,
   "id": "b8a935de",
   "metadata": {
    "vscode": {
     "languageId": "c++"
    }
   },
   "outputs": [],
   "source": [
    "// void printList(Node *node) {\n",
    "//     while (node != NULL) {\n",
    "//         cout << \" \" << node -> data;\n",
    "//         node = node -> next;\n",
    "//     }\n",
    "// }"
   ]
  },
  {
   "cell_type": "markdown",
   "id": "788e31cb",
   "metadata": {},
   "source": [
    "// Deletion on linked list\n",
    "\n",
    "// Iterative Method\n",
    "\n",
    "// To delete a node from the linked list, we need to do the following steps. \n",
    "// 1) Find the previous node of the node to be deleted. \n",
    "// 2) Change the next of the previous node. \n",
    "// 3) Free memory for the node to be deleted.\n",
    "\n",
    "void deleteNode(Node** head, int key) {\n",
    "    Node* temp = *head;\n",
    "    Node* prev = NULL;\n",
    "\n",
    "    if (temp != NULL && temp -> data == key) {\n",
    "        *head = temp -> next;\n",
    "        delete temp;\n",
    "        return;\n",
    "    }\n",
    "    else {\n",
    "        while (temp != NULL && temp -> data != key) {\n",
    "            prev = temp;\n",
    "            temp = temp->next;\n",
    "        }\n",
    "        if (temp == NULL) {\n",
    "            return;\n",
    "        }\n",
    "\n",
    "        prev->next = temp->next;\n",
    "        delete temp;\n",
    "    \n",
    "    }\n",
    "}\n"
   ]
  },
  {
   "cell_type": "code",
   "execution_count": 7,
   "id": "e13ce145",
   "metadata": {
    "vscode": {
     "languageId": "c++"
    }
   },
   "outputs": [],
   "source": [
    "// Creating Linked List\n",
    "class LinkedList {\n",
    "    public:\n",
    "    \n",
    "    // Insertion in the Linked List\n",
    "    void push (Node** head, int new_data) {\n",
    "    Node* new_node = new Node();\n",
    "\n",
    "    new_node -> data = new_data;\n",
    "    new_node -> next = (*head);\n",
    "\n",
    "    (*head) = new_node;\n",
    "}\n",
    "\n",
    "void insertAfter (Node* prev_node, int new_data) {\n",
    "    if (prev_node == NULL) {\n",
    "        cout << \"The given previous node cannot be NULL \\n\";\n",
    "        return;\n",
    "    }\n",
    "\n",
    "    Node* new_node = new Node();\n",
    "\n",
    "    new_node -> data = new_data;\n",
    "    new_node -> next = prev_node -> next;\n",
    "    prev_node -> next = new_node;\n",
    "}\n",
    "\n",
    "void append (Node** head, int new_data) {\n",
    "    Node* new_node = new Node();\n",
    "    Node *last = *head;\n",
    "\n",
    "    new_node -> data = new_data;\n",
    "    new_node -> next = NULL;\n",
    "\n",
    "    if (*head == NULL) {\n",
    "        *head = new_node;\n",
    "        return;\n",
    "    }\n",
    "\n",
    "    while (last -> next != NULL) {\n",
    "        last = last -> next;\n",
    "    }\n",
    "\n",
    "    last -> next = new_node;\n",
    "    return;\n",
    "}\n",
    "\n",
    "// Deletion in the linked List\n",
    "\n",
    "// 1. Iterative Method\n",
    "void deleteNode(Node** head, int key) {\n",
    "    Node* temp = *head;\n",
    "    Node* prev = NULL;\n",
    "\n",
    "    if (temp != NULL && temp -> data == key) {\n",
    "        *head = temp -> next;\n",
    "        delete temp;\n",
    "        return;\n",
    "    }\n",
    "    else {\n",
    "        while (temp != NULL && temp -> data != key) {\n",
    "            prev = temp;\n",
    "            temp = temp->next;\n",
    "        }\n",
    "        if (temp == NULL) {\n",
    "            return;\n",
    "        }\n",
    "\n",
    "        prev->next = temp->next;\n",
    "        delete temp;\n",
    "    \n",
    "    }\n",
    "}\n",
    "\n",
    "// NOT WORKING YET\n",
    "// 2. Recursive Method\n",
    "// void deleteNode(Node* head, int key) {\n",
    "//     if (head == NULL) {\n",
    "//         cout << \"Element not present in the list\";\n",
    "//         return;\n",
    "//     }\n",
    "\n",
    "//     if (head->data == key) {\n",
    "//         Node* temp = head;\n",
    "//         head = head->next;\n",
    "\n",
    "//         delete temp;\n",
    "//         return;\n",
    "//     }\n",
    "//     deleteNode(head->next, key);\n",
    "// }\n",
    "\n",
    "// Traversing\n",
    "void printList(Node *node) {\n",
    "    while (node != NULL) {\n",
    "        cout << \" \" << node -> data;\n",
    "        node = node -> next;\n",
    "    }\n",
    "\n",
    "    cout << \"\\n\";\n",
    "}\n",
    "};"
   ]
  },
  {
   "cell_type": "code",
   "execution_count": 8,
   "id": "bc282d63",
   "metadata": {
    "vscode": {
     "languageId": "c++"
    }
   },
   "outputs": [
    {
     "name": "stdout",
     "output_type": "stream",
     "text": [
      " 1 7 8 6 4\n",
      " 1 8 6 4\n"
     ]
    }
   ],
   "source": [
    "// Main Code for Linked List\n",
    "Node* head = NULL;\n",
    "class LinkedList l;\n",
    "\n",
    "l.append(&head, 6);\n",
    "l.push(&head, 7);\n",
    "l.push(&head, 1);\n",
    "l.append(&head, 4);\n",
    "l.insertAfter(head -> next, 8);\n",
    "l.printList(head);\n",
    "l.deleteNode(&head, 7);\n",
    "l.printList(head);"
   ]
  },
  {
   "cell_type": "markdown",
   "id": "c3e17562",
   "metadata": {},
   "source": [
    "### Deleting Linked List"
   ]
  },
  {
   "cell_type": "code",
   "execution_count": null,
   "id": "80e947aa",
   "metadata": {
    "vscode": {
     "languageId": "c++"
    }
   },
   "outputs": [],
   "source": [
    "/* Function to delete the entire linked list */\n",
    "void deleteList(Node** head)\n",
    "{\n",
    " \n",
    "    /* deref head to get the real head */\n",
    "    Node* current = *head;\n",
    "    Node* next = NULL;\n",
    " \n",
    "    while (current != NULL)\n",
    "    {\n",
    "        next = current->next;\n",
    "        free(current);\n",
    "        current = next;\n",
    "    }\n",
    " \n",
    "    /* deref head to affect the real head back\n",
    "        in the caller. */\n",
    "    *head = NULL;\n",
    "}"
   ]
  },
  {
   "cell_type": "markdown",
   "id": "826d2aad",
   "metadata": {},
   "source": [
    "### Find length of linked list\n",
    "\n",
    "Iterative Solution \n",
    "\n",
    "1) Initialize count as 0 \n",
    "2) Initialize a node pointer, current = head.\n",
    "3) Do following while current is not NULL\n",
    "     a) current = current -> next\n",
    "     b) count++;\n",
    "4) Return count \n",
    "\n",
    "Recursive Solution \n",
    "\n",
    "int getCount(head)\n",
    "1) If head is NULL, return 0.\n",
    "2) Else return 1 + getCount(head->next) "
   ]
  },
  {
   "cell_type": "code",
   "execution_count": 15,
   "id": "e54d5842",
   "metadata": {
    "vscode": {
     "languageId": "c++"
    }
   },
   "outputs": [
    {
     "name": "stdout",
     "output_type": "stream",
     "text": [
      "4"
     ]
    }
   ],
   "source": [
    "//  Iterative solution\n",
    "\n",
    " int getCount(Node* head) {\n",
    "    int count = 0;\n",
    "    Node* current = head;\n",
    "\n",
    "    while(current != NULL) {\n",
    "        count ++;\n",
    "        current = current -> next;\n",
    "    }\n",
    "    return count;\n",
    " }\n",
    "\n",
    "cout << getCount(head);"
   ]
  },
  {
   "cell_type": "code",
   "execution_count": 17,
   "id": "54ed619e",
   "metadata": {
    "vscode": {
     "languageId": "c++"
    }
   },
   "outputs": [
    {
     "name": "stdout",
     "output_type": "stream",
     "text": [
      "4"
     ]
    }
   ],
   "source": [
    "// Recursive Solution\n",
    "\n",
    "int getCount_r(Node* head)\n",
    "{\n",
    "    // Base Case\n",
    "    if (head == NULL) {\n",
    "        return 0;\n",
    "    }\n",
    "    // Count this node plus the rest of the list\n",
    "    else {\n",
    "        return 1 + getCount_r(head->next);\n",
    "    }\n",
    "}\n",
    "\n",
    "cout << getCount_r(head);\n"
   ]
  },
  {
   "cell_type": "markdown",
   "id": "bc94b7c4",
   "metadata": {},
   "source": [
    "### Searching an Element in a linked list\n",
    "\n",
    "#### 1. Iterative solution\n",
    "\n",
    "1) Initialize a node pointer, current = head.\n",
    "2) Do following while current is not NULL\n",
    "    a) current->key is equal to the key being searched return true.\n",
    "    b) current = current->next\n",
    "3) Return false \n",
    "\n",
    "#### 2. Recursive Solution\n",
    "\n",
    "bool search(head, x)\n",
    "1) If head is NULL, return false.\n",
    "2) If head's key is same as x, return true;\n",
    "3) Else return search(head->next, x) "
   ]
  },
  {
   "cell_type": "code",
   "execution_count": 24,
   "id": "b033b92e",
   "metadata": {
    "vscode": {
     "languageId": "c++"
    }
   },
   "outputs": [
    {
     "name": "stdout",
     "output_type": "stream",
     "text": [
      "1"
     ]
    }
   ],
   "source": [
    "bool search(Node* head, int x) {\n",
    "    Node* current = head;\n",
    "    while(current != NULL) {\n",
    "        if (current -> data == x) {\n",
    "            return true;\n",
    "        }\n",
    "        current = current -> next;\n",
    "    }\n",
    "    return false;\n",
    "}\n",
    "\n",
    "cout << search(head, 4);"
   ]
  },
  {
   "cell_type": "code",
   "execution_count": 27,
   "id": "c0f208ff",
   "metadata": {
    "vscode": {
     "languageId": "c++"
    }
   },
   "outputs": [
    {
     "name": "stdout",
     "output_type": "stream",
     "text": [
      "1"
     ]
    }
   ],
   "source": [
    "bool search_r(Node* head, int x) {\n",
    "    if (head == NULL)\n",
    "    return false;\n",
    "\n",
    "    if (head -> data == x)\n",
    "    return true;\n",
    "    \n",
    "    return search_r(head -> next, x);\n",
    "}\n",
    "\n",
    "cout << search_r(head, 4);\n"
   ]
  },
  {
   "cell_type": "markdown",
   "id": "beeb48ea",
   "metadata": {},
   "source": [
    "### Nth node from end\n",
    "\n",
    "Method 1 (Use length of linked list) \n",
    "1) Calculate the length of Linked List. Let the length be len. \n",
    "2) Print the (len – n + 1)th node from the beginning of the Linked List. \n",
    "Double pointer concept : First pointer is used to store the address of the variable and second pointer used to store the address of the first pointer. If we wish to change the value of a variable by a function, we pass pointer to it. And if we wish to change value of a pointer (i. e., it should start pointing to something else), we pass pointer to a pointer."
   ]
  },
  {
   "cell_type": "code",
   "execution_count": null,
   "id": "78be89a9",
   "metadata": {
    "vscode": {
     "languageId": "c++"
    }
   },
   "outputs": [],
   "source": []
  },
  {
   "cell_type": "markdown",
   "id": "0c1ff2c1",
   "metadata": {},
   "source": [
    "### Circular Lined List\n",
    "\n",
    "Circular linked list is a linked list where all nodes are connected to form a circle. There is no NULL at the end. A circular linked list can be a singly circular linked list or doubly circular linked list.\n",
    "\n",
    "#### Implementation \n",
    "To implement a circular singly linked list, we take an external pointer that points to the last node of the list. If we have a pointer last pointing to the last node, then last -> next will point to the first node. \n",
    "\n",
    "\n",
    "#### Advantages of Circular Linked Lists:\n",
    "1) Any node can be a starting point. We can traverse the whole list by starting from any point. We just need to stop when the first visited node is visited again.\n",
    "\n",
    "2) Useful for implementation of queue. Unlike this implementation, we don’t need to maintain two pointers for front and rear if we use circular linked list. We can maintain a pointer to the last inserted node and front can always be obtained as next of last.\n",
    "\n",
    "3) Circular lists are useful in applications to repeatedly go around the list. For example, when multiple applications are running on a PC, it is common for the operating system to put the running applications on a list and then to cycle through them, giving each of them a slice of time to execute, and then making them wait while the CPU is given to another application. It is convenient for the operating system to use a circular list so that when it reaches the end of the list it can cycle around to the front of the list.\n",
    "\n",
    "4) Circular Doubly Linked Lists are used for implementation of advanced data structures like Fibonacci Heap."
   ]
  },
  {
   "cell_type": "markdown",
   "metadata": {},
   "source": [
    "### Insertion \n",
    "A node can be added in three ways: \n",
    "\n",
    "* Insertion in an empty list\n",
    "* Insertion at the beginning of the list\n",
    "* Insertion at the end of the list\n",
    "* Insertion in between the nodes\n",
    "#### Insertion in an empty List \n",
    "Initially, when the list is empty, the last pointer will be NULL. "
   ]
  },
  {
   "cell_type": "code",
   "execution_count": 28,
   "id": "fdc76e14",
   "metadata": {
    "vscode": {
     "languageId": "c++"
    }
   },
   "outputs": [],
   "source": [
    "Node *addToEmpty(struct Node *last, int data)\n",
    "{\n",
    "    // This function is only for empty list\n",
    "    if (last != NULL)\n",
    "      return last;\n",
    " \n",
    "    // Creating a node dynamically.\n",
    "    struct Node *temp =\n",
    "          (struct Node*)malloc(sizeof(struct Node));\n",
    " \n",
    "    // Assigning the data.\n",
    "    temp -> data = data;\n",
    "    last = temp;\n",
    "    // Note : list was empty. We link single node\n",
    "    // to itself.\n",
    "    temp -> next = last;\n",
    " \n",
    "    return last;\n",
    "}"
   ]
  },
  {
   "cell_type": "markdown",
   "id": "d1b82b9e",
   "metadata": {},
   "source": [
    "#### Insertion at the beginning of the list \n",
    "To insert a node at the beginning of the list, follow these steps: \n",
    "1. Create a node, say T. \n",
    "2. Make T -> next = last -> next. \n",
    "3. last -> next = T. "
   ]
  },
  {
   "cell_type": "code",
   "execution_count": 30,
   "id": "d1651ae5",
   "metadata": {
    "vscode": {
     "languageId": "c++"
    }
   },
   "outputs": [],
   "source": [
    "\n",
    "Node *addBegin(struct Node *last, int data)\n",
    "{\n",
    "  if (last == NULL)\n",
    "     return addToEmpty(last, data);\n",
    " \n",
    "  // Creating a node dynamically.\n",
    "  struct Node *temp\n",
    "        = (struct Node *)malloc(sizeof(struct Node));\n",
    "   \n",
    "  // Assigning the data.\n",
    "  temp -> data = data;\n",
    " \n",
    "  // Adjusting the links.\n",
    "  temp -> next = last -> next;\n",
    "  last -> next = temp;\n",
    "   \n",
    "  return last;\n",
    "}"
   ]
  },
  {
   "cell_type": "markdown",
   "id": "660e8991",
   "metadata": {},
   "source": [
    "#### Insertion at the end of the list \n",
    "To insert a node at the end of the list, follow these steps: \n",
    "1. Create a node, say T. \n",
    "2. Make T -> next = last -> next; \n",
    "3. last -> next = T. \n",
    "4. last = T. "
   ]
  },
  {
   "cell_type": "code",
   "execution_count": null,
   "id": "ef4fd03f",
   "metadata": {
    "vscode": {
     "languageId": "c++"
    }
   },
   "outputs": [],
   "source": [
    "Node *addEnd(struct Node *last, int data)\n",
    "{\n",
    "  if (last == NULL)\n",
    "     return addToEmpty(last, data);\n",
    " \n",
    "  // Creating a node dynamically.\n",
    "  struct Node *temp =\n",
    "        (struct Node *)malloc(sizeof(struct Node));\n",
    "   \n",
    "  // Assigning the data.\n",
    "  temp -> data = data;\n",
    " \n",
    "  // Adjusting the links.\n",
    "  temp -> next = last -> next;\n",
    "  last -> next = temp;\n",
    "  last = temp;\n",
    "   \n",
    "  return last;\n",
    "}"
   ]
  },
  {
   "cell_type": "markdown",
   "id": "17be8f88",
   "metadata": {},
   "source": [
    "#### Insertion in between the nodes \n",
    "To insert a node in between the two nodes, follow these steps: \n",
    "1. Create a node, say T. \n",
    "2. Search for the node after which T needs to be inserted, say that node is P. \n",
    "3. Make T -> next = P -> next; \n",
    "4. P -> next = T.\n",
    "Suppose 12 needs to be inserted after the node has the value 10,"
   ]
  },
  {
   "cell_type": "code",
   "execution_count": null,
   "id": "e2359037",
   "metadata": {
    "vscode": {
     "languageId": "c++"
    }
   },
   "outputs": [],
   "source": [
    "Node *addAfter(struct Node *last, int data, int item)\n",
    "{\n",
    "    if (last == NULL)\n",
    "       return NULL;\n",
    " \n",
    "    struct Node *temp, *p;\n",
    "    p = last -> next;\n",
    " \n",
    "    // Searching the item.\n",
    "    do\n",
    "    {\n",
    "        if (p ->data == item)\n",
    "        {\n",
    "            // Creating a node dynamically.\n",
    "            temp = (struct Node *)malloc(sizeof(struct Node));\n",
    " \n",
    "            // Assigning the data.\n",
    "            temp -> data = data;\n",
    " \n",
    "            // Adjusting the links.\n",
    "            temp -> next = p -> next;\n",
    " \n",
    "            // Adding newly allocated node after p.\n",
    "            p -> next = temp;\n",
    " \n",
    "            // Checking for the last node.\n",
    "            if (p == last)\n",
    "                last = temp;\n",
    " \n",
    "            return last;\n",
    "        }\n",
    "        p = p -> next;\n",
    "    } while (p != last -> next);\n",
    " \n",
    "    cout << item << \" not present in the list.\" << endl;\n",
    "    return last;\n",
    "}"
   ]
  },
  {
   "cell_type": "markdown",
   "id": "2711154f",
   "metadata": {},
   "source": []
  },
  {
   "cell_type": "markdown",
   "id": "8626856e",
   "metadata": {},
   "source": [
    "## Doubly Linked List\n",
    "\n",
    "Advantages over singly linked list \n",
    "1) A DLL can be traversed in both forward and backward direction. \n",
    "2) The delete operation in DLL is more efficient if pointer to the node to be deleted is given. \n",
    "3) We can quickly insert a new node before a given node. \n",
    "In singly linked list, to delete a node, pointer to the previous node is needed. To get this previous node, sometimes the list is traversed. In DLL, we can get the previous node using previous pointer. \n",
    " \n",
    "\n",
    " \n",
    "Disadvantages over singly linked list \n",
    "1) Every node of DLL Require extra space for an previous pointer. It is possible to implement DLL with single pointer though (See this and this). \n",
    "2) All operations require an extra pointer previous to be maintained. For example, in insertion, we need to modify previous pointers together with next pointers. For example in following functions for insertions at different positions, we need 1 or 2 extra steps to set previous pointer."
   ]
  },
  {
   "cell_type": "code",
   "execution_count": null,
   "id": "ff2b864b",
   "metadata": {
    "vscode": {
     "languageId": "c++"
    }
   },
   "outputs": [],
   "source": [
    "class Node {\n",
    "    public:\n",
    "    int data;\n",
    "    Node* next;\n",
    "    Node* prev;\n",
    "}"
   ]
  },
  {
   "cell_type": "markdown",
   "id": "90c2b4ea",
   "metadata": {},
   "source": [
    "#### Insertion\n",
    "\n",
    "A node can be added in four ways \n",
    "1) At the front of the DLL \n",
    "2) After a given node. \n",
    "3) At the end of the DLL \n",
    "4) Before a given node."
   ]
  },
  {
   "cell_type": "code",
   "execution_count": 31,
   "id": "3bc9281b",
   "metadata": {
    "vscode": {
     "languageId": "c++"
    }
   },
   "outputs": [
    {
     "name": "stderr",
     "output_type": "stream",
     "text": [
      "In file included from input_line_40:1:\n",
      "In file included from /home/suman/anaconda3/envs/cling/bin/../lib/gcc/x86_64-conda-linux-gnu/9.3.0/../../../../x86_64-conda-linux-gnu/include/c++/9.3.0/x86_64-conda-linux-gnu/bits/stdc++.h:61:\n",
      "/home/suman/anaconda3/envs/cling/bin/../lib/gcc/x86_64-conda-linux-gnu/9.3.0/../../../../x86_64-conda-linux-gnu/include/c++/9.3.0/cuchar:53:10: fatal error: 'uchar.h' file not found\n",
      "#include <uchar.h>\n",
      "         ^~~~~~~~~\n"
     ]
    },
    {
     "ename": "Interpreter Error",
     "evalue": "",
     "output_type": "error",
     "traceback": [
      "Interpreter Error: "
     ]
    }
   ],
   "source": [
    "// A complete working C++ program to\n",
    "// demonstrate all insertion methods\n",
    "#include <bits/stdc++.h>\n",
    "using namespace std;\n",
    " \n",
    "// A linked list node\n",
    "class Node\n",
    "{\n",
    "    public:\n",
    "    int data;\n",
    "    Node* next;\n",
    "    Node* prev;\n",
    "};\n",
    " \n",
    "/* Given a reference (pointer to pointer)\n",
    "to the head of a list\n",
    "and an int, inserts a new node on the\n",
    "front of the list. */\n",
    "void push(Node** head_ref, int new_data)\n",
    "{\n",
    "    /* 1. allocate node */\n",
    "    Node* new_node = new Node();\n",
    " \n",
    "    /* 2. put in the data */\n",
    "    new_node->data = new_data;\n",
    " \n",
    "    /* 3. Make next of new node as head\n",
    "    and previous as NULL */\n",
    "    new_node->next = (*head_ref);\n",
    "    new_node->prev = NULL;\n",
    " \n",
    "    /* 4. change prev of head node to new node */\n",
    "    if ((*head_ref) != NULL)\n",
    "        (*head_ref)->prev = new_node;\n",
    " \n",
    "    /* 5. move the head to point to the new node */\n",
    "    (*head_ref) = new_node;\n",
    "}\n",
    " \n",
    "/* Given a node as prev_node, insert\n",
    "a new node after the given node */\n",
    "void insertAfter(Node* prev_node, int new_data)\n",
    "{\n",
    "    /*1. check if the given prev_node is NULL */\n",
    "    if (prev_node == NULL)\n",
    "    {\n",
    "        cout<<\"the given previous node cannot be NULL\";\n",
    "        return;\n",
    "    }\n",
    " \n",
    "    /* 2. allocate new node */\n",
    "    Node* new_node = new Node();\n",
    " \n",
    "    /* 3. put in the data */\n",
    "    new_node->data = new_data;\n",
    " \n",
    "    /* 4. Make next of new node as next of prev_node */\n",
    "    new_node->next = prev_node->next;\n",
    " \n",
    "    /* 5. Make the next of prev_node as new_node */\n",
    "    prev_node->next = new_node;\n",
    " \n",
    "    /* 6. Make prev_node as previous of new_node */\n",
    "    new_node->prev = prev_node;\n",
    " \n",
    "    /* 7. Change previous of new_node's next node */\n",
    "    if (new_node->next != NULL)\n",
    "        new_node->next->prev = new_node;\n",
    "}\n",
    " \n",
    "/* Given a reference (pointer to pointer) to the head\n",
    "of a DLL and an int, appends a new node at the end */\n",
    "void append(Node** head_ref, int new_data)\n",
    "{\n",
    "    /* 1. allocate node */\n",
    "    Node* new_node = new Node();\n",
    " \n",
    "    Node* last = *head_ref; /* used in step 5*/\n",
    " \n",
    "    /* 2. put in the data */\n",
    "    new_node->data = new_data;\n",
    " \n",
    "    /* 3. This new node is going to be the last node, so\n",
    "        make next of it as NULL*/\n",
    "    new_node->next = NULL;\n",
    " \n",
    "    /* 4. If the Linked List is empty, then make the new\n",
    "        node as head */\n",
    "    if (*head_ref == NULL)\n",
    "    {\n",
    "        new_node->prev = NULL;\n",
    "        *head_ref = new_node;\n",
    "        return;\n",
    "    }\n",
    " \n",
    "    /* 5. Else traverse till the last node */\n",
    "    while (last->next != NULL)\n",
    "        last = last->next;\n",
    " \n",
    "    /* 6. Change the next of last node */\n",
    "    last->next = new_node;\n",
    " \n",
    "    /* 7. Make last node as previous of new node */\n",
    "    new_node->prev = last;\n",
    " \n",
    "    return;\n",
    "}\n",
    " \n",
    "// This function prints contents of\n",
    "// linked list starting from the given node\n",
    "void printList(Node* node)\n",
    "{\n",
    "    Node* last;\n",
    "    cout<<\"\\nTraversal in forward direction \\n\";\n",
    "    while (node != NULL)\n",
    "    {\n",
    "        cout<<\" \"<<node->data<<\" \";\n",
    "        last = node;\n",
    "        node = node->next;\n",
    "    }\n",
    " \n",
    "    cout<<\"\\nTraversal in reverse direction \\n\";\n",
    "    while (last != NULL)\n",
    "    {\n",
    "        cout<<\" \"<<last->data<<\" \";\n",
    "        last = last->prev;\n",
    "    }\n",
    "}\n",
    " \n",
    "/* Driver program to test above functions*/\n",
    "int main()\n",
    "{\n",
    "    /* Start with the empty list */\n",
    "    Node* head = NULL;\n",
    " \n",
    "    // Insert 6. So linked list becomes 6->NULL\n",
    "    append(&head, 6);\n",
    " \n",
    "    // Insert 7 at the beginning. So\n",
    "    // linked list becomes 7->6->NULL\n",
    "    push(&head, 7);\n",
    " \n",
    "    // Insert 1 at the beginning. So\n",
    "    // linked list becomes 1->7->6->NULL\n",
    "    push(&head, 1);\n",
    " \n",
    "    // Insert 4 at the end. So linked\n",
    "    // list becomes 1->7->6->4->NULL\n",
    "    append(&head, 4);\n",
    " \n",
    "    // Insert 8, after 7. So linked\n",
    "    // list becomes 1->7->8->6->4->NULL\n",
    "    insertAfter(head->next, 8);\n",
    " \n",
    "    cout << \"Created DLL is: \";\n",
    "    printList(head);\n",
    " \n",
    "    return 0;\n",
    "}"
   ]
  },
  {
   "cell_type": "markdown",
   "id": "03e2e365",
   "metadata": {},
   "source": []
  }
 ],
 "metadata": {
  "interpreter": {
   "hash": "f11d532167b0ff8b264980b9d5b55ce121dfef6d17ab152dde0643489385039d"
  },
  "kernelspec": {
   "display_name": "C++14",
   "language": "C++14",
   "name": "xcpp14"
  },
  "language_info": {
   "codemirror_mode": "text/x-c++src",
   "file_extension": ".cpp",
   "mimetype": "text/x-c++src",
   "name": "C++14",
   "version": "14"
  }
 },
 "nbformat": 4,
 "nbformat_minor": 5
}
