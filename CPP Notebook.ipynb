{
 "cells": [
  {
   "cell_type": "code",
   "execution_count": 1,
   "id": "b0ee1b0b",
   "metadata": {},
   "outputs": [
    {
     "name": "stdout",
     "output_type": "stream",
     "text": [
      "Hello World!"
     ]
    }
   ],
   "source": [
    "#include <iostream>\n",
    "using namespace std;\n",
    "cout << \"Hello World!\";"
   ]
  },
  {
   "cell_type": "markdown",
   "id": "9bb2ba11",
   "metadata": {},
   "source": [
    "## Data Structures And Algorithms\n"
   ]
  },
  {
   "cell_type": "markdown",
   "id": "6c95aef4",
   "metadata": {},
   "source": [
    "### stack\n"
   ]
  },
  {
   "cell_type": "code",
   "execution_count": 5,
   "id": "b0514f70",
   "metadata": {},
   "outputs": [
    {
     "name": "stderr",
     "output_type": "stream",
     "text": [
      "input_line_16:13:1: error: function definition is not allowed here\n",
      "{\n",
      "^\n"
     ]
    },
    {
     "ename": "Interpreter Error",
     "evalue": "",
     "output_type": "error",
     "traceback": [
      "Interpreter Error: "
     ]
    }
   ],
   "source": [
    "#include <iostream>\n",
    "using namespace std;\n",
    "#define MAX 1000\n",
    "\n",
    "class Stack {\n",
    "    int top;\n",
    " \n",
    "public:\n",
    "    int a[MAX]; // Maximum size of Stack\n",
    "    Stack() { top = -1; }\n",
    "    \n",
    "    bool push(int x)\n",
    "{\n",
    "    if (top >= (MAX - 1)) {\n",
    "        cout << \"Stack Overflow\";\n",
    "        return false;\n",
    "    }\n",
    "    else {\n",
    "        a[++top] = x;\n",
    "        cout << x << \" pushed into stack\\n\";\n",
    "        return true;\n",
    "    }\n",
    "}\n",
    " \n",
    "int pop()\n",
    "{\n",
    "    if (top < 0) {\n",
    "        cout << \"Stack Underflow\";\n",
    "        return 0;\n",
    "    }\n",
    "    else {\n",
    "        int x = a[top--];\n",
    "        return x;\n",
    "    }\n",
    "}\n",
    "int peek()\n",
    "{\n",
    "    if (top < 0) {\n",
    "        cout << \"Stack is Empty\";\n",
    "        return 0;\n",
    "    }\n",
    "    else {\n",
    "        int x = a[top];\n",
    "        return x;\n",
    "    }\n",
    "}\n",
    " \n",
    "bool isEmpty()\n",
    "{\n",
    "    return (top < 0);\n",
    "}\n",
    "};\n",
    "\n",
    "\n",
    "int main()\n",
    "{\n",
    "    class Stack s;\n",
    "    s.push(10);\n",
    "    s.push(20);\n",
    "    s.push(30);\n",
    "    cout << s.pop() << \" Popped from stack\\n\";\n",
    "    //print all elements in stack :\n",
    "    cout<<\"Elements present in stack : \";\n",
    "    while(!s.isEmpty())\n",
    "    {\n",
    "        // print top element in stack\n",
    "        cout<<s.peek()<<\" \";\n",
    "        // remove top element in stack\n",
    "        s.pop();\n",
    "    }\n",
    " \n",
    "    return 0;\n",
    "}"
   ]
  },
  {
   "cell_type": "markdown",
   "id": "0f5ecb1e",
   "metadata": {},
   "source": [
    "## Linked List\n"
   ]
  },
  {
   "cell_type": "code",
   "execution_count": null,
   "id": "1b18facb",
   "metadata": {},
   "outputs": [],
   "source": []
  },
  {
   "cell_type": "code",
   "execution_count": null,
   "id": "4bf3adc3",
   "metadata": {},
   "outputs": [],
   "source": []
  },
  {
   "cell_type": "code",
   "execution_count": null,
   "id": "09a33641",
   "metadata": {},
   "outputs": [],
   "source": []
  },
  {
   "cell_type": "code",
   "execution_count": null,
   "id": "628027bd",
   "metadata": {},
   "outputs": [],
   "source": []
  },
  {
   "cell_type": "code",
   "execution_count": null,
   "id": "1f6e56ff",
   "metadata": {},
   "outputs": [],
   "source": []
  },
  {
   "cell_type": "code",
   "execution_count": null,
   "id": "371f1f96",
   "metadata": {},
   "outputs": [],
   "source": []
  },
  {
   "cell_type": "code",
   "execution_count": null,
   "id": "8939c005",
   "metadata": {},
   "outputs": [],
   "source": []
  },
  {
   "cell_type": "code",
   "execution_count": null,
   "id": "173078ad",
   "metadata": {},
   "outputs": [],
   "source": []
  },
  {
   "cell_type": "code",
   "execution_count": null,
   "id": "6599c08a",
   "metadata": {},
   "outputs": [],
   "source": []
  },
  {
   "cell_type": "code",
   "execution_count": null,
   "id": "537e1c6b",
   "metadata": {},
   "outputs": [],
   "source": []
  },
  {
   "cell_type": "code",
   "execution_count": null,
   "id": "44d3e28e",
   "metadata": {},
   "outputs": [],
   "source": []
  },
  {
   "cell_type": "code",
   "execution_count": null,
   "id": "126a1519",
   "metadata": {},
   "outputs": [],
   "source": []
  },
  {
   "cell_type": "code",
   "execution_count": null,
   "id": "300993a2",
   "metadata": {},
   "outputs": [],
   "source": []
  },
  {
   "cell_type": "code",
   "execution_count": null,
   "id": "bc66c12e",
   "metadata": {},
   "outputs": [],
   "source": []
  },
  {
   "cell_type": "code",
   "execution_count": null,
   "id": "1492ee4c",
   "metadata": {},
   "outputs": [],
   "source": []
  },
  {
   "cell_type": "code",
   "execution_count": null,
   "id": "22573778",
   "metadata": {},
   "outputs": [],
   "source": []
  },
  {
   "cell_type": "code",
   "execution_count": null,
   "id": "40dffc97",
   "metadata": {},
   "outputs": [],
   "source": []
  },
  {
   "cell_type": "code",
   "execution_count": null,
   "id": "a68c6d7f",
   "metadata": {},
   "outputs": [],
   "source": []
  },
  {
   "cell_type": "code",
   "execution_count": null,
   "id": "79d80706",
   "metadata": {},
   "outputs": [],
   "source": []
  },
  {
   "cell_type": "code",
   "execution_count": null,
   "id": "06b8583e",
   "metadata": {},
   "outputs": [],
   "source": []
  },
  {
   "cell_type": "code",
   "execution_count": null,
   "id": "750b4b46",
   "metadata": {},
   "outputs": [],
   "source": []
  },
  {
   "cell_type": "code",
   "execution_count": null,
   "id": "9ca24662",
   "metadata": {},
   "outputs": [],
   "source": []
  }
 ],
 "metadata": {
  "kernelspec": {
   "display_name": "C++14",
   "language": "C++14",
   "name": "xcpp14"
  },
  "language_info": {
   "codemirror_mode": "text/x-c++src",
   "file_extension": ".cpp",
   "mimetype": "text/x-c++src",
   "name": "c++",
   "version": "14"
  }
 },
 "nbformat": 4,
 "nbformat_minor": 5
}
