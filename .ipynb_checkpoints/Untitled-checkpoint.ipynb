{
 "cells": [
  {
   "cell_type": "markdown",
   "id": "3b9910b8",
   "metadata": {},
   "source": [
    "## Pointer"
   ]
  },
  {
   "cell_type": "code",
   "execution_count": 1,
   "id": "9b2e9325",
   "metadata": {},
   "outputs": [],
   "source": [
    "#include <iostream>\n",
    "using namespace std;\n"
   ]
  },
  {
   "cell_type": "code",
   "execution_count": 8,
   "id": "6eb62faf",
   "metadata": {},
   "outputs": [
    {
     "name": "stdout",
     "output_type": "stream",
     "text": [
      "10\n",
      "0x7fcf3846f03c\n"
     ]
    }
   ],
   "source": [
    "int a = 10;\n",
    "cout << a << endl;\n",
    "cout << &a << endl;"
   ]
  },
  {
   "cell_type": "code",
   "execution_count": 16,
   "id": "53d4ed12",
   "metadata": {},
   "outputs": [
    {
     "name": "stdout",
     "output_type": "stream",
     "text": [
      "0x7fcf3846f03c\n",
      "10\n"
     ]
    }
   ],
   "source": [
    "int *i;\n",
    "i = &a;\n",
    "cout << i<< endl;\n",
    "cout << *i<< endl;"
   ]
  },
  {
   "cell_type": "code",
   "execution_count": 37,
   "id": "a6213dde",
   "metadata": {},
   "outputs": [
    {
     "name": "stdout",
     "output_type": "stream",
     "text": [
      "10\n"
     ]
    }
   ],
   "source": [
    "int v[3] = {10, 100, 200};\n",
    " \n",
    "// Declare pointer variable\n",
    "int *ptr;\n",
    " \n",
    "// Assign the address of v[0] to ptr\n",
    "ptr = v;\n",
    "// cout << ptr << endl;\n",
    "// cout << ++ptr << \" \" << *ptr << endl;\n",
    "// cout << ++ptr << \" \" << *ptr << endl;\n",
    "// cout << ++ptr << \" \" << *ptr << endl;\n",
    "\n",
    "cout << *ptr++ << endl;\n"
   ]
  },
  {
   "cell_type": "code",
   "execution_count": 24,
   "id": "3aca0f1e",
   "metadata": {},
   "outputs": [
    {
     "name": "stdout",
     "output_type": "stream",
     "text": [
      "Value of *ptr = 10\n",
      "Value of ptr = 0x7fcf3846f0f8\n",
      "\n",
      "Value of *ptr = 100\n",
      "Value of ptr = 0x7fcf3846f0fc\n",
      "\n",
      "Value of *ptr = 200\n",
      "Value of ptr = 0x7fcf3846f100\n",
      "\n"
     ]
    }
   ],
   "source": [
    "int v[3] = {10, 100, 200};\n",
    " \n",
    "    // Declare pointer variable\n",
    "    int *ptr;\n",
    " \n",
    "    // Assign the address of v[0] to ptr\n",
    "    ptr = v;\n",
    " \n",
    "    for (int i = 0; i < 3; i++)\n",
    "    {\n",
    "        printf(\"Value of *ptr = %d\\n\", *ptr);\n",
    "        printf(\"Value of ptr = %p\\n\\n\", ptr);\n",
    " \n",
    "        // Increment pointer ptr by 1\n",
    "        ptr++;\n",
    "    }"
   ]
  },
  {
   "cell_type": "code",
   "execution_count": 38,
   "id": "a75dc05d",
   "metadata": {},
   "outputs": [
    {
     "name": "stdout",
     "output_type": "stream",
     "text": [
      "Value of *ptr = 10\n",
      "Value of ptr = 0x7fcf3846f230\n",
      "\n",
      "Value of *ptr = 100\n",
      "Value of ptr = 0x7fcf3846f234\n",
      "\n",
      "Value of *ptr = 200\n",
      "Value of ptr = 0x7fcf3846f238\n",
      "\n"
     ]
    }
   ],
   "source": [
    "int v[3] = {10, 100, 200};\n",
    " \n",
    "    // Declare pointer variable\n",
    "    int *ptr;\n",
    " \n",
    "    // Assign the address of v[0] to ptr\n",
    "    ptr = v;\n",
    " \n",
    "    for (int i = 0; i < 3; i++)\n",
    "    {\n",
    "        printf(\"Value of *ptr = %d\\n\", *ptr);\n",
    "        printf(\"Value of ptr = %p\\n\\n\", ptr);\n",
    " \n",
    "        // Increment pointer ptr by 1\n",
    "        ptr++;\n",
    "    }"
   ]
  },
  {
   "cell_type": "markdown",
   "id": "8b9abbd7",
   "metadata": {},
   "source": [
    "## Linked List"
   ]
  },
  {
   "cell_type": "code",
   "execution_count": 2,
   "id": "9d64eaef",
   "metadata": {},
   "outputs": [],
   "source": [
    "class Node {\n",
    "    public:\n",
    "    int data;\n",
    "    Node* next;\n",
    "    \n",
    "    Node() {\n",
    "        data = 0;\n",
    "        next = NULL;\n",
    "    }\n",
    "    \n",
    "    Node(int data) {\n",
    "        this -> data = data;\n",
    "        this -> next = NULL;\n",
    "    }\n",
    "};"
   ]
  },
  {
   "cell_type": "code",
   "execution_count": 10,
   "id": "95a2775c",
   "metadata": {},
   "outputs": [
    {
     "name": "stderr",
     "output_type": "stream",
     "text": [
      "\u001b[1minput_line_17:5:12: \u001b[0m\u001b[0;1;31merror: \u001b[0m\u001b[1mno matching constructor for initialization of '__cling_N52::Node'\u001b[0m\n",
      "head = new Node(10);\n",
      "\u001b[0;1;32m           ^    ~~\n",
      "\u001b[0m\u001b[1minput_line_7:1:7: \u001b[0m\u001b[0;1;30mnote: \u001b[0mcandidate constructor (the implicit copy constructor) not viable: no known\n",
      "      conversion from 'int' to 'const __cling_N52::Node' for 1st argument\u001b[0m\n",
      "class Node {\n",
      "\u001b[0;1;32m      ^\n",
      "\u001b[0m\u001b[1minput_line_7:1:7: \u001b[0m\u001b[0;1;30mnote: \u001b[0mcandidate constructor (the implicit move constructor) not viable: no known\n",
      "      conversion from 'int' to '__cling_N52::Node' for 1st argument\u001b[0m\n",
      "\u001b[1minput_line_7:1:7: \u001b[0m\u001b[0;1;30mnote: \u001b[0mcandidate constructor (the implicit default constructor) not viable: requires 0\n",
      "      arguments, but 1 was provided\u001b[0m\n",
      "\u001b[1minput_line_17:6:14: \u001b[0m\u001b[0;1;31merror: \u001b[0m\u001b[1mno matching constructor for initialization of '__cling_N52::Node'\u001b[0m\n",
      "second = new Node(20);\n",
      "\u001b[0;1;32m             ^    ~~\n",
      "\u001b[0m\u001b[1minput_line_7:1:7: \u001b[0m\u001b[0;1;30mnote: \u001b[0mcandidate constructor (the implicit copy constructor) not viable: no known\n",
      "      conversion from 'int' to 'const __cling_N52::Node' for 1st argument\u001b[0m\n",
      "class Node {\n",
      "\u001b[0;1;32m      ^\n",
      "\u001b[0m\u001b[1minput_line_7:1:7: \u001b[0m\u001b[0;1;30mnote: \u001b[0mcandidate constructor (the implicit move constructor) not viable: no known\n",
      "      conversion from 'int' to '__cling_N52::Node' for 1st argument\u001b[0m\n",
      "\u001b[1minput_line_7:1:7: \u001b[0m\u001b[0;1;30mnote: \u001b[0mcandidate constructor (the implicit default constructor) not viable: requires 0\n",
      "      arguments, but 1 was provided\u001b[0m\n",
      "\u001b[1minput_line_17:7:13: \u001b[0m\u001b[0;1;31merror: \u001b[0m\u001b[1mno matching constructor for initialization of '__cling_N52::Node'\u001b[0m\n",
      "third = new Node(30);\n",
      "\u001b[0;1;32m            ^    ~~\n",
      "\u001b[0m\u001b[1minput_line_7:1:7: \u001b[0m\u001b[0;1;30mnote: \u001b[0mcandidate constructor (the implicit copy constructor) not viable: no known\n",
      "      conversion from 'int' to 'const __cling_N52::Node' for 1st argument\u001b[0m\n",
      "class Node {\n",
      "\u001b[0;1;32m      ^\n",
      "\u001b[0m\u001b[1minput_line_7:1:7: \u001b[0m\u001b[0;1;30mnote: \u001b[0mcandidate constructor (the implicit move constructor) not viable: no known\n",
      "      conversion from 'int' to '__cling_N52::Node' for 1st argument\u001b[0m\n",
      "\u001b[1minput_line_7:1:7: \u001b[0m\u001b[0;1;30mnote: \u001b[0mcandidate constructor (the implicit default constructor) not viable: requires 0\n",
      "      arguments, but 1 was provided\u001b[0m\n"
     ]
    },
    {
     "ename": "Interpreter Error",
     "evalue": "",
     "output_type": "error",
     "traceback": [
      "Interpreter Error: "
     ]
    }
   ],
   "source": [
    "Node* head = NULL;\n",
    "Node* second = NULL;\n",
    "Node* third = NULL;\n",
    "\n",
    "head = new Node(10);\n",
    "second = new Node(20);\n",
    "third = new Node(30);\n",
    "\n",
    "// head -> data = 10;\n",
    "head -> next = second;\n",
    "\n",
    "// second -> data = 20;\n",
    "second -> next = third;\n",
    "\n",
    "// third -> data = 30;\n",
    "\n",
    "\n",
    "Node* temp = new Node;\n",
    "temp = head;\n",
    "\n",
    "while (temp) {\n",
    "    cout << temp -> data << endl;\n",
    "    temp = temp->next;\n",
    "}"
   ]
  },
  {
   "cell_type": "code",
   "execution_count": 12,
   "id": "094a5fc3",
   "metadata": {},
   "outputs": [
    {
     "name": "stderr",
     "output_type": "stream",
     "text": [
      "\u001b[1minput_line_19:8:29: \u001b[0m\u001b[0;1;31merror: \u001b[0m\u001b[1mno matching constructor for initialization of '__cling_N52::Node'\u001b[0m\n",
      "        Node* newNode = new Node(data);\n",
      "\u001b[0;1;32m                            ^    ~~~~\n",
      "\u001b[0m\u001b[1minput_line_7:1:7: \u001b[0m\u001b[0;1;30mnote: \u001b[0mcandidate constructor (the implicit copy constructor) not viable: no known\n",
      "      conversion from 'int' to 'const __cling_N52::Node' for 1st argument\u001b[0m\n",
      "class Node {\n",
      "\u001b[0;1;32m      ^\n",
      "\u001b[0m\u001b[1minput_line_7:1:7: \u001b[0m\u001b[0;1;30mnote: \u001b[0mcandidate constructor (the implicit move constructor) not viable: no known\n",
      "      conversion from 'int' to '__cling_N52::Node' for 1st argument\u001b[0m\n",
      "\u001b[1minput_line_7:1:7: \u001b[0m\u001b[0;1;30mnote: \u001b[0mcandidate constructor (the implicit default constructor) not viable: requires 0\n",
      "      arguments, but 1 was provided\u001b[0m\n"
     ]
    },
    {
     "ename": "Interpreter Error",
     "evalue": "",
     "output_type": "error",
     "traceback": [
      "Interpreter Error: "
     ]
    }
   ],
   "source": [
    "class LinkedList {\n",
    "    class Node* head;\n",
    "    \n",
    "    \n",
    "    public:\n",
    "    void insertNode (int data) {\n",
    "        cout << data;\n",
    "        Node* newNode = new Node(data);\n",
    "        \n",
    "        // At head\n",
    "        if (head == NULL) {\n",
    "            head = newNode;\n",
    "            return;\n",
    "        }\n",
    "        \n",
    "        // At end\n",
    "        Node* temp = head;\n",
    "        while (temp -> next != NULL) {\n",
    "            temp = temp -> next;\n",
    "        }\n",
    "        \n",
    "        // insert at the last \n",
    "        temp -> next = newNode;\n",
    "    }\n",
    "    \n",
    "    void printList () {\n",
    "        Node* temp = head;\n",
    "        \n",
    "        // Check for empty list\n",
    "        if (temp != NULL) {\n",
    "            cout << \"List empty\";\n",
    "            return;\n",
    "        }\n",
    "        while (temp != NULL) {\n",
    "            cout << temp->data << \" \";\n",
    "            temp = temp->next;\n",
    "        }\n",
    "    }\n",
    "    \n",
    "};\n",
    "\n",
    "LinkedList l;\n",
    "l.insertNode(1);\n",
    "l.printList();"
   ]
  },
  {
   "cell_type": "code",
   "execution_count": null,
   "id": "429d92e4",
   "metadata": {},
   "outputs": [],
   "source": []
  },
  {
   "cell_type": "code",
   "execution_count": null,
   "id": "d388b4b5",
   "metadata": {},
   "outputs": [],
   "source": []
  },
  {
   "cell_type": "code",
   "execution_count": null,
   "id": "a05ba371",
   "metadata": {},
   "outputs": [],
   "source": []
  },
  {
   "cell_type": "code",
   "execution_count": null,
   "id": "134f19e9",
   "metadata": {},
   "outputs": [],
   "source": []
  },
  {
   "cell_type": "code",
   "execution_count": null,
   "id": "89e1087f",
   "metadata": {},
   "outputs": [],
   "source": []
  },
  {
   "cell_type": "code",
   "execution_count": null,
   "id": "afef10d4",
   "metadata": {},
   "outputs": [],
   "source": []
  },
  {
   "cell_type": "code",
   "execution_count": null,
   "id": "09012285",
   "metadata": {},
   "outputs": [],
   "source": []
  }
 ],
 "metadata": {
  "kernelspec": {
   "display_name": "C++14",
   "language": "C++14",
   "name": "xcpp14"
  },
  "language_info": {
   "codemirror_mode": "text/x-c++src",
   "file_extension": ".cpp",
   "mimetype": "text/x-c++src",
   "name": "c++",
   "version": "14"
  }
 },
 "nbformat": 4,
 "nbformat_minor": 5
}
